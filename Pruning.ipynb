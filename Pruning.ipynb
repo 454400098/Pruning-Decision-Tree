{
 "cells": [
  {
   "cell_type": "markdown",
   "metadata": {},
   "source": [
    "# Generate sample dataset"
   ]
  },
  {
   "cell_type": "code",
   "execution_count": 33,
   "metadata": {},
   "outputs": [],
   "source": [
    "import numpy as np\n",
    "import random as rd\n",
    "import math\n",
    "import pandas as pd\n",
    "from numpy import log2 as log\n",
    "import pprint\n",
    "eps = np.finfo(float).eps"
   ]
  },
  {
   "cell_type": "code",
   "execution_count": 50,
   "metadata": {},
   "outputs": [],
   "source": [
    "class datagen:\n",
    "    def __init__(self, m):\n",
    "#         self.k = k # number of features\n",
    "        self.m = m # number of data points\n",
    "        self.arrofarrX = []\n",
    "        self.arrY = []\n",
    "        \n",
    "        for i in range(self.m):\n",
    "            tmpX = self.generateX()\n",
    "            tmpY = self.computeY(tmpX)\n",
    "            self.arrofarrX.append(tmpX)\n",
    "            self.arrY.append(tmpY)\n",
    "            \n",
    "        self.df = pd.DataFrame(d.arrofarrX)\n",
    "        L = len(d.arrofarrX[0])\n",
    "        self.df['Y'] = d.arrY\n",
    "        \n",
    "    def ran(self,x,y):\n",
    "        if rd.uniform(x,y) > 0.5:\n",
    "            return 1\n",
    "        else:\n",
    "            return 0\n",
    "    \n",
    "    def ran2(self,x,y):\n",
    "        if rd.uniform(x,y) > 0.25:\n",
    "            return 1\n",
    "        else:\n",
    "            return 0\n",
    "        \n",
    "    def generateX(self):\n",
    "        new = []\n",
    "        if self.ran(0,1) == 1:\n",
    "            new.append(1)\n",
    "        else:\n",
    "            new.append(0)\n",
    "        \n",
    "        for x in range(1,14):\n",
    "            if self.ran2(0,1) == 1:\n",
    "                new.append(new[x-1])\n",
    "            else:\n",
    "                new.append(1-new[x-1])\n",
    "        for x in range(15,21):\n",
    "            if self.ran(0,1) == 1:\n",
    "                new.append(0)\n",
    "            else:\n",
    "                new.append(1)\n",
    "        return new\n",
    "    \n",
    "    def computeY(self,arrX):\n",
    "        res = 0\n",
    "        count0 = 0\n",
    "        count1 = 0\n",
    "        if arrX[0] == 0:\n",
    "            for x in range(1,8):\n",
    "                if arrX[x] == 0:\n",
    "                    count0+=1\n",
    "                else:\n",
    "                    count1+=1\n",
    "        else:\n",
    "            for x in range(8,15):\n",
    "                if arrX[x] == 0:\n",
    "                    count0+=1\n",
    "                else:\n",
    "                    count1+=1\n",
    "        \n",
    "        if count0 > count1:\n",
    "            return 0\n",
    "        else:\n",
    "            return 1"
   ]
  },
  {
   "cell_type": "markdown",
   "metadata": {},
   "source": [
    "# Building Decision Tree"
   ]
  },
  {
   "cell_type": "markdown",
   "metadata": {},
   "source": [
    "# Compute $H(Y)$"
   ]
  },
  {
   "cell_type": "code",
   "execution_count": 54,
   "metadata": {},
   "outputs": [],
   "source": [
    "def find_entropy(df):\n",
    "    ClFI = df.keys()[-1]   # to get the attribute name of classifcation column\n",
    "    entropy = 0\n",
    "    values = df[ClFI].unique()\n",
    "    for value in values:\n",
    "        fraction = df[ClFI].value_counts()[value]/len(df[ClFI])\n",
    "        entropy += -fraction*np.log2(fraction)\n",
    "    return entropy"
   ]
  },
  {
   "cell_type": "markdown",
   "metadata": {},
   "source": [
    "# Compute $H(Y|X) = \\sum_{x}P(X = x)[-\\sum_{y}P(Y=y|X=x)\\log P(Y=y|X=x)]$"
   ]
  },
  {
   "cell_type": "code",
   "execution_count": 55,
   "metadata": {},
   "outputs": [],
   "source": [
    "def find_entropy_attribute(df,attribute):\n",
    "    ClFI = df.keys()[-1]      \n",
    "    target_variables = df[ClFI].unique()  \n",
    "    variables = df[attribute].unique()    \n",
    "    entropy2 = 0\n",
    "    for variable in variables:\n",
    "        entropy = 0\n",
    "        for target_variable in target_variables:\n",
    "            num = len(df[attribute][df[attribute]==variable][df[ClFI] ==target_variable])\n",
    "            den = len(df[attribute][df[attribute]==variable])\n",
    "            fraction = num/(den+eps)\n",
    "            entropy += -fraction*log(fraction+eps)\n",
    "        fraction2 = den/len(df)\n",
    "        entropy2 += -fraction2*entropy\n",
    "    return abs(entropy2)"
   ]
  },
  {
   "cell_type": "markdown",
   "metadata": {},
   "source": [
    "# Find the attribute that could lead to biggest entropy"
   ]
  },
  {
   "cell_type": "code",
   "execution_count": 57,
   "metadata": {},
   "outputs": [],
   "source": [
    "def find_winner(df):\n",
    "    Entropy_att = []\n",
    "    IG = []\n",
    "    for key in df.keys()[:-1]:\n",
    "#         Entropy_att.append(find_entropy_attribute(df,key))\n",
    "        IG.append(find_entropy(df)-find_entropy_attribute(df,key))\n",
    "    return df.keys()[:-1][np.argmax(IG)]"
   ]
  },
  {
   "cell_type": "markdown",
   "metadata": {},
   "source": [
    "# get subtable since we find a attribute to cut the table"
   ]
  },
  {
   "cell_type": "code",
   "execution_count": 58,
   "metadata": {},
   "outputs": [],
   "source": [
    "def get_subtable(df, node,value):\n",
    "    return df[df[node] == value].reset_index(drop=True)"
   ]
  },
  {
   "cell_type": "markdown",
   "metadata": {},
   "source": [
    "# (DFS IMPLEMENTATION)FINAL STEP: LETS BUILD DECISION TREE"
   ]
  },
  {
   "cell_type": "code",
   "execution_count": 59,
   "metadata": {},
   "outputs": [],
   "source": [
    "def buildTree(df,tree=None): \n",
    "    Class = df.keys()[-1]   \n",
    "    \n",
    "    node = find_winner(df)   #get the attribute that could lead to he biggest entropy\n",
    "    \n",
    "    attValue = np.unique(df[node])   #get the distint attribute in the colomen which lead to the\n",
    "                                     #biggest entrophy\n",
    "    \n",
    "    #init a dictonary structure to store the entire decision tree\n",
    "    # which is a dictionary of dictionary\n",
    "    # the innder dictionary used to store the current layer of decision tree\n",
    "    if tree is None:                    \n",
    "        tree={}\n",
    "        tree[node] = {}\n",
    "    \n",
    "    #find the index of last column\n",
    "    \n",
    "    for value in attValue:\n",
    "        \n",
    "        subtable = get_subtable(df,node,value)\n",
    "        clValue,counts = np.unique(subtable['Y'],return_counts=True)    #based on the subtable, if counts of unique array\n",
    "                                                                        #equals one, means only one case exist to decide Y\n",
    "        if len(counts)==1:\n",
    "            tree[node][value] = clValue[0]                                                    \n",
    "        else:        \n",
    "            tree[node][value] = buildTree(subtable) #DFS \n",
    "                   \n",
    "    return tree"
   ]
  },
  {
   "cell_type": "markdown",
   "metadata": {},
   "source": [
    "# Prediction function: input 1 is the decision tree, input 2 is the dataset that need to be predicted"
   ]
  },
  {
   "cell_type": "code",
   "execution_count": 60,
   "metadata": {},
   "outputs": [],
   "source": [
    "def predict(pred_arr,tree):     #predict function is just to traverse the TREE using DFS \n",
    "    #DFS\n",
    "    for node in tree.keys():\n",
    "        value = pred_arr[node]\n",
    "        tree = tree[node][value]\n",
    "        ans = 0\n",
    "        if type(tree) is dict:  # yet to reach the node\n",
    "            ans = predict(pred_arr,tree)\n",
    "        else:\n",
    "            ans = tree\n",
    "            break;\n",
    "    return ans"
   ]
  },
  {
   "cell_type": "markdown",
   "metadata": {},
   "source": [
    "# Compute the training error"
   ]
  },
  {
   "cell_type": "code",
   "execution_count": 79,
   "metadata": {},
   "outputs": [],
   "source": [
    "def err_train(df,tree):\n",
    "    count = 0\n",
    "    l = len(df)\n",
    "    for x in range(l):\n",
    "        inst = df.iloc[x]\n",
    "        ans = predict(inst,tree)\n",
    "        if ans == inst[-1]:\n",
    "            count+=1\n",
    "        inst = 0\n",
    "    return (l-count)/l"
   ]
  },
  {
   "cell_type": "markdown",
   "metadata": {},
   "source": [
    "#  "
   ]
  },
  {
   "cell_type": "markdown",
   "metadata": {},
   "source": [
    "# Quesiton (1), consider $m$ ranges from 10 to 10000, each time we use 80% dataset to train decision tree, and 20% dataset to predict"
   ]
  },
  {
   "cell_type": "code",
   "execution_count": 83,
   "metadata": {},
   "outputs": [],
   "source": [
    "err_history = []\n",
    "count = 0\n",
    "x_axis = []\n",
    "for m in range(10,100):\n",
    "    d = datagen(m)\n",
    "    df = d.df\n",
    "    trainset, predictset = np.split(df, [int(.8*len(df))])   #80% training set, 20% predicting set\n",
    "    predictset.index = range(len(predictset.index))          #reindex the index of predicting set from zero to len-1\n",
    "    tree = buildTree(trainset)                               #build decision tree using training set\n",
    "#     errtrain = err_train2(trainset,tree)\n",
    "    errpred = err_train(predictset,tree)\n",
    "    err_history.append(errpred)\n",
    "    x_axis.append(count)\n",
    "    count = count + 1"
   ]
  },
  {
   "cell_type": "code",
   "execution_count": 84,
   "metadata": {},
   "outputs": [
    {
     "data": {
      "text/plain": [
       "[<matplotlib.lines.Line2D at 0x7f8168029978>]"
      ]
     },
     "execution_count": 84,
     "metadata": {},
     "output_type": "execute_result"
    },
    {
     "data": {
      "image/png": "[encoded data removed]",
      "text/plain": [
       "<Figure size 432x288 with 1 Axes>"
      ]
     },
     "metadata": {},
     "output_type": "display_data"
    }
   ],
   "source": [
    "import numpy as np\n",
    "import matplotlib.pyplot as plt\n",
    "\n",
    "plt.plot(x_axis, err_history)"
   ]
  },
  {
   "cell_type": "markdown",
   "metadata": {},
   "source": [
    "# Question(2) "
   ]
  },
  {
   "cell_type": "markdown",
   "metadata": {},
   "source": [
    "# Count number of irrelevent variables function in tree"
   ]
  },
  {
   "cell_type": "code",
   "execution_count": 244,
   "metadata": {},
   "outputs": [],
   "source": [
    "def countirr(tree):\n",
    "    #level order traverse tree\n",
    "    if tree is None:\n",
    "        return\n",
    "    #create queue for level order trasversal\n",
    "    \n",
    "    ans = []\n",
    "    queue = []\n",
    "    key = list(tree.keys())\n",
    "    p = [key[0],tree]\n",
    "    queue.append(p)\n",
    "    ans.append(key[0])\n",
    "    while(len(queue)>0):\n",
    "        pair = queue.pop(0)\n",
    "        node = pair[0]\n",
    "        tree = pair[1]\n",
    "        ans.append(node)\n",
    "        tree0 = tree[node][0]\n",
    "        tree1 = tree[node][1]\n",
    "        if type(tree0) is dict:\n",
    "            key = list(tree0.keys())\n",
    "            pair = [key[0],tree0]\n",
    "            queue.append(pair)\n",
    "            \n",
    "        if type(tree1) is dict:\n",
    "            key = list(tree1.keys())\n",
    "            pair = [key[0],tree1]\n",
    "            queue.append(pair)\n",
    "            \n",
    "    ans = list(set(ans))  # get unique node number\n",
    "    return ans"
   ]
  },
  {
   "cell_type": "code",
   "execution_count": 286,
   "metadata": {},
   "outputs": [],
   "source": [
    "def height(tree):\n",
    "    if type(tree) is not dict:\n",
    "        return 0\n",
    "    else:\n",
    "        for node in tree.keys():\n",
    "            treeleft = tree[node][0]\n",
    "            lheight = height(treeleft)\n",
    "            treeright = tree[node][1]\n",
    "            rheight = height(treeright)\n",
    "        \n",
    "        if lheight > rheight :\n",
    "            return lheight + 1\n",
    "        else:\n",
    "            return rheight + 1\n",
    "        "
   ]
  },
  {
   "cell_type": "code",
   "execution_count": 301,
   "metadata": {},
   "outputs": [],
   "source": [
    "def countirrela(arr):\n",
    "    count= 0\n",
    "    for i in range(len(arr)):\n",
    "        if arr[i]>=15 and arr[i]<=20:\n",
    "            count+=1\n",
    "    return count"
   ]
  },
  {
   "cell_type": "code",
   "execution_count": 317,
   "metadata": {},
   "outputs": [
    {
     "name": "stdout",
     "output_type": "stream",
     "text": [
      "10\n",
      "11\n",
      "12\n",
      "13\n",
      "14\n",
      "15\n",
      "16\n",
      "17\n",
      "18\n",
      "19\n",
      "20\n",
      "21\n",
      "22\n",
      "23\n",
      "24\n",
      "25\n",
      "26\n",
      "27\n",
      "28\n",
      "29\n",
      "30\n",
      "31\n",
      "32\n",
      "33\n",
      "34\n",
      "35\n",
      "36\n",
      "37\n",
      "38\n",
      "39\n",
      "40\n",
      "41\n",
      "42\n",
      "43\n",
      "44\n",
      "45\n",
      "46\n",
      "47\n",
      "48\n",
      "49\n",
      "50\n",
      "51\n",
      "52\n",
      "53\n",
      "54\n",
      "55\n",
      "56\n",
      "57\n",
      "58\n",
      "59\n",
      "60\n",
      "61\n",
      "62\n",
      "63\n",
      "64\n",
      "65\n",
      "66\n",
      "67\n",
      "68\n",
      "69\n",
      "70\n",
      "71\n",
      "72\n",
      "73\n",
      "74\n",
      "75\n",
      "76\n",
      "77\n",
      "78\n",
      "79\n",
      "80\n",
      "81\n",
      "82\n",
      "83\n",
      "84\n",
      "85\n",
      "86\n",
      "87\n",
      "88\n",
      "89\n",
      "90\n",
      "91\n",
      "92\n",
      "93\n",
      "94\n",
      "95\n",
      "96\n",
      "97\n",
      "98\n",
      "99\n"
     ]
    }
   ],
   "source": [
    "err_history = []\n",
    "irre_history = []\n",
    "m = 0\n",
    "x_axis = []\n",
    "for m in range(10,100):\n",
    "    value = 0.0\n",
    "    errvalue = 0.0\n",
    "    for i in range(10):\n",
    "        d = datagen(m)\n",
    "        df = d.df\n",
    "        trainset, predictset = np.split(df, [int(.8*len(df))])\n",
    "        predictset.index = range(len(predictset.index))         \n",
    "        tree = buildTree(trainset)\n",
    "        errpred = err_train(predictset,tree)\n",
    "        errvalue+=errpred\n",
    "        arrofirreindex = countirr(tree)\n",
    "        irre_count = countirrela(arrofirreindex)\n",
    "        value+=irre_count\n",
    "    average = value/10\n",
    "    ave_errvalue = errvalue/10\n",
    "    err_history.append(ave_errvalue)\n",
    "    x_axis.append(m)\n",
    "    irre_history.append(average)\n",
    "    print(m)"
   ]
  },
  {
   "cell_type": "code",
   "execution_count": 318,
   "metadata": {},
   "outputs": [
    {
     "data": {
      "text/plain": [
       "[<matplotlib.lines.Line2D at 0x7f8167ff9fd0>]"
      ]
     },
     "execution_count": 318,
     "metadata": {},
     "output_type": "execute_result"
    },
    {
     "data": {
      "image/png": "[encoded data removed]",
      "text/plain": [
       "<Figure size 432x288 with 1 Axes>"
      ]
     },
     "metadata": {},
     "output_type": "display_data"
    }
   ],
   "source": [
    "import numpy as np\n",
    "import matplotlib.pyplot as plt\n",
    "\n",
    "plt.plot(x_axis, irre_history)"
   ]
  },
  {
   "cell_type": "code",
   "execution_count": null,
   "metadata": {},
   "outputs": [],
   "source": []
  }
 ],
 "metadata": {
  "kernelspec": {
   "display_name": "Python 3",
   "language": "python",
   "name": "python3"
  },
  "language_info": {
   "codemirror_mode": {
    "name": "ipython",
    "version": 3
   },
   "file_extension": ".py",
   "mimetype": "text/x-python",
   "name": "python",
   "nbconvert_exporter": "python",
   "pygments_lexer": "ipython3",
   "version": "3.6.5"
  }
 },
 "nbformat": 4,
 "nbformat_minor": 2
}
