{
 "cells": [
  {
   "cell_type": "markdown",
   "metadata": {},
   "source": [
    "# Generate sample dataset"
   ]
  },
  {
   "cell_type": "code",
   "execution_count": 1,
   "metadata": {},
   "outputs": [],
   "source": [
    "import numpy as np\n",
    "import random as rd\n",
    "import math\n",
    "import pandas as pd\n",
    "from numpy import log2 as log\n",
    "import pprint\n",
    "eps = np.finfo(float).eps"
   ]
  },
  {
   "cell_type": "code",
   "execution_count": 20,
   "metadata": {},
   "outputs": [],
   "source": [
    "class datagen:\n",
    "    def __init__(self, m):\n",
    "#         self.k = k # number of features\n",
    "        self.m = m # number of data points\n",
    "        self.arrofarrX = []\n",
    "        self.arrY = []\n",
    "        \n",
    "        for i in range(self.m):\n",
    "            tmpX = self.generateX()\n",
    "            tmpY = self.computeY(tmpX)\n",
    "            self.arrofarrX.append(tmpX)\n",
    "            self.arrY.append(tmpY)\n",
    "            \n",
    "        self.df = pd.DataFrame(self.arrofarrX)\n",
    "        L = len(self.arrofarrX[0])\n",
    "        self.df['Y'] = self.arrY\n",
    "        \n",
    "    def ran(self,x,y):\n",
    "        if rd.uniform(x,y) > 0.5:\n",
    "            return 1\n",
    "        else:\n",
    "            return 0\n",
    "    \n",
    "    def ran2(self,x,y):\n",
    "        if rd.uniform(x,y) > 0.25:\n",
    "            return 1\n",
    "        else:\n",
    "            return 0\n",
    "        \n",
    "    def generateX(self):\n",
    "        new = []\n",
    "        if self.ran(0,1) == 1:\n",
    "            new.append(1)\n",
    "        else:\n",
    "            new.append(0)\n",
    "        \n",
    "        for x in range(1,14):\n",
    "            if self.ran2(0,1) == 1:\n",
    "                new.append(new[x-1])\n",
    "            else:\n",
    "                new.append(1-new[x-1])\n",
    "        for x in range(15,21):\n",
    "            if self.ran(0,1) == 1:\n",
    "                new.append(0)\n",
    "            else:\n",
    "                new.append(1)\n",
    "        return new\n",
    "    \n",
    "    def computeY(self,arrX):\n",
    "        res = 0\n",
    "        count0 = 0\n",
    "        count1 = 0\n",
    "        if arrX[0] == 0:\n",
    "            for x in range(1,8):\n",
    "                if arrX[x] == 0:\n",
    "                    count0+=1\n",
    "                else:\n",
    "                    count1+=1\n",
    "        else:\n",
    "            for x in range(8,15):\n",
    "                if arrX[x] == 0:\n",
    "                    count0+=1\n",
    "                else:\n",
    "                    count1+=1\n",
    "        \n",
    "        if count0 > count1:\n",
    "            return 0\n",
    "        else:\n",
    "            return 1"
   ]
  },
  {
   "cell_type": "markdown",
   "metadata": {},
   "source": [
    "# Building Decision Tree"
   ]
  },
  {
   "cell_type": "markdown",
   "metadata": {},
   "source": [
    "# Compute $H(Y)$"
   ]
  },
  {
   "cell_type": "code",
   "execution_count": 3,
   "metadata": {},
   "outputs": [],
   "source": [
    "def find_entropy(df):\n",
    "    ClFI = df.keys()[-1]   # to get the attribute name of classifcation column\n",
    "    entropy = 0\n",
    "    values = df[ClFI].unique()\n",
    "    for value in values:\n",
    "        fraction = df[ClFI].value_counts()[value]/len(df[ClFI])\n",
    "        entropy += -fraction*np.log2(fraction)\n",
    "    return entropy"
   ]
  },
  {
   "cell_type": "markdown",
   "metadata": {},
   "source": [
    "# Compute $H(Y|X) = \\sum_{x}P(X = x)[-\\sum_{y}P(Y=y|X=x)\\log P(Y=y|X=x)]$"
   ]
  },
  {
   "cell_type": "code",
   "execution_count": 4,
   "metadata": {},
   "outputs": [],
   "source": [
    "def find_entropy_attribute(df,attribute):\n",
    "    ClFI = df.keys()[-1]      \n",
    "    target_variables = df[ClFI].unique()  \n",
    "    variables = df[attribute].unique()    \n",
    "    entropy2 = 0\n",
    "    for variable in variables:\n",
    "        entropy = 0\n",
    "        for target_variable in target_variables:\n",
    "            num = len(df[attribute][df[attribute]==variable][df[ClFI] ==target_variable])\n",
    "            den = len(df[attribute][df[attribute]==variable])\n",
    "            fraction = num/(den+eps)\n",
    "            entropy += -fraction*log(fraction+eps)\n",
    "        fraction2 = den/len(df)\n",
    "        entropy2 += -fraction2*entropy\n",
    "    return abs(entropy2)"
   ]
  },
  {
   "cell_type": "markdown",
   "metadata": {},
   "source": [
    "# Find the attribute that could lead to biggest entropy"
   ]
  },
  {
   "cell_type": "code",
   "execution_count": 5,
   "metadata": {},
   "outputs": [],
   "source": [
    "def find_winner(df):\n",
    "    Entropy_att = []\n",
    "    IG = []\n",
    "    for key in df.keys()[:-1]:\n",
    "#         Entropy_att.append(find_entropy_attribute(df,key))\n",
    "        IG.append(find_entropy(df)-find_entropy_attribute(df,key))\n",
    "    return df.keys()[:-1][np.argmax(IG)]"
   ]
  },
  {
   "cell_type": "markdown",
   "metadata": {},
   "source": [
    "# get subtable since we find a attribute to cut the table"
   ]
  },
  {
   "cell_type": "code",
   "execution_count": 6,
   "metadata": {},
   "outputs": [],
   "source": [
    "def get_subtable(df, node,value):\n",
    "    return df[df[node] == value].reset_index(drop=True)"
   ]
  },
  {
   "cell_type": "markdown",
   "metadata": {},
   "source": [
    "# (DFS IMPLEMENTATION)FINAL STEP: LETS BUILD DECISION TREE"
   ]
  },
  {
   "cell_type": "code",
   "execution_count": 7,
   "metadata": {},
   "outputs": [],
   "source": [
    "def buildTree(df,tree=None): \n",
    "    Class = df.keys()[-1]   \n",
    "    \n",
    "    node = find_winner(df)   #get the attribute that could lead to he biggest entropy\n",
    "    \n",
    "    attValue = np.unique(df[node])   #get the distint attribute in the colomen which lead to the\n",
    "                                     #biggest entrophy\n",
    "    \n",
    "    #init a dictonary structure to store the entire decision tree\n",
    "    # which is a dictionary of dictionary\n",
    "    # the innder dictionary used to store the current layer of decision tree\n",
    "    if tree is None:                    \n",
    "        tree={}\n",
    "        tree[node] = {}\n",
    "    \n",
    "    #find the index of last column\n",
    "    \n",
    "    for value in attValue:\n",
    "        \n",
    "        subtable = get_subtable(df,node,value)\n",
    "        clValue,counts = np.unique(subtable['Y'],return_counts=True)    #based on the subtable, if counts of unique array\n",
    "                                                                        #equals one, means only one case exist to decide Y\n",
    "        if len(counts)==1:\n",
    "            tree[node][value] = clValue[0]                                                    \n",
    "        else:        \n",
    "            tree[node][value] = buildTree(subtable) #DFS \n",
    "                   \n",
    "    return tree"
   ]
  },
  {
   "cell_type": "markdown",
   "metadata": {},
   "source": [
    "# Prediction function: input 1 is the decision tree, input 2 is the dataset that need to be predicted"
   ]
  },
  {
   "cell_type": "code",
   "execution_count": 8,
   "metadata": {},
   "outputs": [],
   "source": [
    "def predict(pred_arr,tree):     #predict function is just to traverse the TREE using DFS \n",
    "    #DFS\n",
    "    for node in tree.keys():\n",
    "        value = pred_arr[node]\n",
    "        tree = tree[node][value]\n",
    "        ans = 0\n",
    "        if type(tree) is dict:  # yet to reach the node\n",
    "            ans = predict(pred_arr,tree)\n",
    "        else:\n",
    "            ans = tree\n",
    "            break;\n",
    "    return ans"
   ]
  },
  {
   "cell_type": "markdown",
   "metadata": {},
   "source": [
    "# Compute the training error"
   ]
  },
  {
   "cell_type": "code",
   "execution_count": 9,
   "metadata": {},
   "outputs": [],
   "source": [
    "def err_train(df,tree):\n",
    "    count = 0\n",
    "    l = len(df)\n",
    "    for x in range(l):\n",
    "        inst = df.iloc[x]\n",
    "        ans = predict(inst,tree)\n",
    "        if ans == inst[-1]:\n",
    "            count+=1\n",
    "        inst = 0\n",
    "    return (l-count)/l"
   ]
  },
  {
   "cell_type": "markdown",
   "metadata": {},
   "source": [
    "#  "
   ]
  },
  {
   "cell_type": "markdown",
   "metadata": {},
   "source": [
    "# Quesiton (1), consider $m$ ranges from 10 to 10000, each time we use 80% dataset to train decision tree, and 20% dataset to predict"
   ]
  },
  {
   "cell_type": "code",
   "execution_count": null,
   "metadata": {},
   "outputs": [],
   "source": [
    "err_history = []\n",
    "count = 0\n",
    "x_axis = []\n",
    "for m in range(10,100):\n",
    "    d = datagen(m)\n",
    "    df = d.df\n",
    "    trainset, predictset = np.split(df, [int(.8*len(df))])   #80% training set, 20% predicting set\n",
    "    predictset.index = range(len(predictset.index))          #reindex the index of predicting set from zero to len-1\n",
    "    tree = buildTree(trainset)                               #build decision tree using training set\n",
    "#     errtrain = err_train2(trainset,tree)\n",
    "    errpred = err_train(predictset,tree)\n",
    "    err_history.append(errpred)\n",
    "    x_axis.append(count)\n",
    "    count = count + 1"
   ]
  },
  {
   "cell_type": "code",
   "execution_count": null,
   "metadata": {},
   "outputs": [],
   "source": [
    "import numpy as np\n",
    "import matplotlib.pyplot as plt\n",
    "\n",
    "plt.plot(x_axis, err_history)"
   ]
  },
  {
   "cell_type": "markdown",
   "metadata": {},
   "source": [
    "# Question(2) "
   ]
  },
  {
   "cell_type": "markdown",
   "metadata": {},
   "source": [
    "# Count number of irrelevent variables function in tree"
   ]
  },
  {
   "cell_type": "code",
   "execution_count": 1164,
   "metadata": {},
   "outputs": [],
   "source": [
    "def countirr(tree):\n",
    "    #level order traverse tree\n",
    "    if tree is None:\n",
    "        return\n",
    "    #create queue for level order trasversal\n",
    "    \n",
    "    ans = []\n",
    "    queue = []\n",
    "    key = list(tree.keys())\n",
    "    p = [key[0],tree]\n",
    "    queue.append(p)\n",
    "#     ans.append(key[0])\n",
    "    while(len(queue)>0):\n",
    "        pair = queue.pop(0)\n",
    "        node = pair[0]\n",
    "        tree = pair[1]\n",
    "        ans.append(node)\n",
    "        tree0 = tree[node][0]\n",
    "        tree1 = tree[node][1]\n",
    "        if type(tree0) is dict:\n",
    "            key = list(tree0.keys())\n",
    "            pair = [key[0],tree0]\n",
    "            queue.append(pair)\n",
    "            \n",
    "        if type(tree1) is dict:\n",
    "            key = list(tree1.keys())\n",
    "            pair = [key[0],tree1]\n",
    "            queue.append(pair)\n",
    "            \n",
    "    ans = list(set(ans))  # get unique node number\n",
    "    return ans"
   ]
  },
  {
   "cell_type": "code",
   "execution_count": 555,
   "metadata": {},
   "outputs": [],
   "source": [
    "def height(tree):\n",
    "    if type(tree) is not dict:\n",
    "        return 0\n",
    "    else:\n",
    "        for node in tree.keys():\n",
    "            treeleft = tree[node][0]\n",
    "            lheight = height(treeleft)\n",
    "            treeright = tree[node][1]\n",
    "            rheight = height(treeright)\n",
    "        \n",
    "        if lheight > rheight :\n",
    "            return lheight + 1\n",
    "        else:\n",
    "            return rheight + 1\n",
    "        "
   ]
  },
  {
   "cell_type": "code",
   "execution_count": 12,
   "metadata": {},
   "outputs": [],
   "source": [
    "def countirrela(arr):\n",
    "    count= 0\n",
    "    for i in range(len(arr)):\n",
    "        if arr[i]>=15 and arr[i]<=20:\n",
    "            count+=1\n",
    "    return count"
   ]
  },
  {
   "cell_type": "code",
   "execution_count": null,
   "metadata": {},
   "outputs": [],
   "source": [
    "err_history = []\n",
    "irre_history = []\n",
    "m = 0\n",
    "x_axis = []\n",
    "for m in range(10,100):\n",
    "    value = 0.0\n",
    "    errvalue = 0.0\n",
    "    for i in range(10):\n",
    "        d = datagen(m)\n",
    "        df = d.df\n",
    "        trainset, predictset = np.split(df, [int(.8*len(df))])\n",
    "        predictset.index = range(len(predictset.index))         \n",
    "        tree = buildTree(trainset)\n",
    "        errpred = err_train(predictset,tree)\n",
    "        errvalue+=errpred\n",
    "        arrofirreindex = countirr(tree)\n",
    "        irre_count = countirrela(arrofirreindex)\n",
    "        value+=irre_count\n",
    "    average = value/10\n",
    "    ave_errvalue = errvalue/10\n",
    "    err_history.append(ave_errvalue)\n",
    "    x_axis.append(m)\n",
    "    irre_history.append(average)\n",
    "    print(m)"
   ]
  },
  {
   "cell_type": "code",
   "execution_count": null,
   "metadata": {},
   "outputs": [],
   "source": [
    "import numpy as np\n",
    "import matplotlib.pyplot as plt\n",
    "\n",
    "plt.plot(x_axis, irre_history)"
   ]
  },
  {
   "cell_type": "markdown",
   "metadata": {},
   "source": [
    "# Question(3)"
   ]
  },
  {
   "cell_type": "markdown",
   "metadata": {},
   "source": [
    "# 3.1 Prunning by Depth:"
   ]
  },
  {
   "cell_type": "code",
   "execution_count": 773,
   "metadata": {},
   "outputs": [],
   "source": [
    "def BFSprune(df):\n",
    "    node = find_winner(df)  #root node\n",
    "    attValue = np.unique(df[node]) #get unique attribute of 'Y' class\n",
    "    tree = {}\n",
    "    tree[node] = {}\n",
    "    q = []\n",
    "    #push node of root into queue\n",
    "    for value in attValue:\n",
    "            subtable = get_subtable(df,node,value)\n",
    "            clValue,counts = np.unique(subtable['Y'],return_counts=True)\n",
    "            \n",
    "            if len(counts) == 1:\n",
    "                tree[node][value] = clValue[0]\n",
    "            else:\n",
    "                childtree = {}\n",
    "                tree[node][value] = childtree\n",
    "                pair = [childtree,subtable]\n",
    "                q.insert(0,pair)\n",
    "    #BFS\n",
    "    while(len(q)>0):\n",
    "        element = q.pop()\n",
    "        tmptree = element[0]\n",
    "        tmpsubtable = element[1]\n",
    "        \n",
    "        node = find_winner(tmpsubtable)\n",
    "        tmptree[node] = {}\n",
    "        \n",
    "        for value in attValue:\n",
    "            subtable = get_subtable(tmpsubtable,node,value)\n",
    "            clValue,counts = np.unique(subtable['Y'],return_counts=True)\n",
    "            \n",
    "            if len(counts) == 1:\n",
    "                tmptree[node][value] = clValue[0]\n",
    "            else:\n",
    "                #enqueue\n",
    "                childtree = {}\n",
    "                tmptree[node][value] = childtree\n",
    "                pair = [childtree,subtable]\n",
    "                q.insert(0,pair)\n",
    "    \n",
    "    return tree\n"
   ]
  },
  {
   "cell_type": "code",
   "execution_count": 1249,
   "metadata": {},
   "outputs": [],
   "source": [
    "def relativeheight(arr):\n",
    "    ans = []\n",
    "    last = len(arr)\n",
    "    rootheight = arr[last-1]\n",
    "    for i in reversed(arr):\n",
    "        ans.append(rootheight - i)\n",
    "    return ans\n",
    "\n",
    "def computeheight_eachnode(tree):\n",
    "    heightarr = []\n",
    "    #BFS to traverse tree and stroe height for each node\n",
    "    queue = []\n",
    "    key = list(tree.keys())\n",
    "    p = [key[0],tree]\n",
    "    queue.append(p)\n",
    "#     heightarr.append(height(tree))\n",
    "    heightarr.insert(0,height(tree))\n",
    "    while(len(queue)>0):\n",
    "        pair = queue.pop(0)\n",
    "        node = pair[0]\n",
    "        tree = pair[1]\n",
    "        tree0 = tree[node][0]\n",
    "        tree1 = tree[node][1]\n",
    "        if type(tree0) is dict:\n",
    "            key = list(tree0.keys())\n",
    "            pair = [key[0],tree0]\n",
    "#             heightarr.append(height(tree0))\n",
    "            heightarr.insert(0,height(tree0))\n",
    "            queue.append(pair)\n",
    "        if type(tree1) is dict:\n",
    "            key = list(tree1.keys())\n",
    "            pair= [key[0],tree1]\n",
    "            queue.append(pair)\n",
    "#             heightarr.append(height(tree1))\n",
    "            heightarr.insert(0,height(tree1))\n",
    "    \n",
    "    ans = relativeheight(heightarr)\n",
    "    return ans\n"
   ]
  },
  {
   "cell_type": "code",
   "execution_count": 775,
   "metadata": {},
   "outputs": [],
   "source": [
    "def coinflip(num0,num1):\n",
    "    if num0 == num1:\n",
    "        if ran()==0:\n",
    "            return 0\n",
    "        else:\n",
    "            return 1\n",
    "    elif num0 > num1:\n",
    "        return 0\n",
    "    else:\n",
    "        return 1\n",
    "    \n",
    "def majority(df):\n",
    "    #count 1\n",
    "    num0 = 0\n",
    "    num1 = 0\n",
    "    #delete last col of df\n",
    "    t = df.drop(labels = 'Y',axis=1)\n",
    "    #number of row of df\n",
    "    num_col = len(t)\n",
    "    #loop every row\n",
    "    for i in range(num_col):\n",
    "        tmprow = t.iloc[[i]]\n",
    "        arr = tmprow.as_matrix()[0]\n",
    "        for x in range(len(arr)):\n",
    "            if arr[x] == 0:\n",
    "                num0+=1\n",
    "            else:\n",
    "                num1+=1\n",
    "    ans = coinflip(num0,num1)\n",
    "    return ans"
   ]
  },
  {
   "cell_type": "code",
   "execution_count": 776,
   "metadata": {},
   "outputs": [],
   "source": [
    "def ran():\n",
    "        if rd.uniform(0,1) > 0.5:\n",
    "            return 1\n",
    "        else:\n",
    "            return 0"
   ]
  },
  {
   "cell_type": "code",
   "execution_count": 1160,
   "metadata": {},
   "outputs": [],
   "source": [
    "def BFSnodearray(tree):\n",
    "    #level order traverse tree\n",
    "    if tree is None:\n",
    "        return\n",
    "    #create queue for level order trasversal\n",
    "    \n",
    "    ans = []\n",
    "    queue = []\n",
    "    key = list(tree.keys())\n",
    "    p = [key[0],tree]\n",
    "    queue.append(p)\n",
    "#     ans.append(key[0])\n",
    "    while(len(queue)>0):\n",
    "        pair = queue.pop(0)\n",
    "        node = pair[0]\n",
    "        tree = pair[1]\n",
    "        ans.append(node)\n",
    "        tree0 = tree[node][0]\n",
    "        tree1 = tree[node][1]\n",
    "        if type(tree0) is dict:\n",
    "            key = list(tree0.keys())\n",
    "            pair = [key[0],tree0]\n",
    "            queue.append(pair)\n",
    "            \n",
    "        if type(tree1) is dict:\n",
    "            key = list(tree1.keys())\n",
    "            pair = [key[0],tree1]\n",
    "            queue.append(pair)\n",
    "        \n",
    "    return ans"
   ]
  },
  {
   "cell_type": "code",
   "execution_count": 1298,
   "metadata": {},
   "outputs": [],
   "source": [
    "d = datagen(100)\n",
    "df = d.df\n",
    "tree = BFSprune(df)\n"
   ]
  },
  {
   "cell_type": "code",
   "execution_count": 1299,
   "metadata": {},
   "outputs": [
    {
     "name": "stdout",
     "output_type": "stream",
     "text": [
      "node array is [7, 10, 4, 11, 0, 13, 0, 15, 3, 9, 6, 12, 12, 0, 6, 12, 1, 2, 6, 3] len is  20\n"
     ]
    }
   ],
   "source": [
    "ans = BFSnodearray(tree)\n",
    "print(\"node array is\",ans,\"len is \", len(ans))"
   ]
  },
  {
   "cell_type": "code",
   "execution_count": 1300,
   "metadata": {},
   "outputs": [
    {
     "name": "stdout",
     "output_type": "stream",
     "text": [
      "heiarr array is [0, 1, 1, 2, 2, 2, 4, 3, 4, 3, 3, 5, 5, 4, 5, 4, 4, 5, 5, 5] len is  20\n"
     ]
    }
   ],
   "source": [
    "heiarr = computeheight_eachnode(tree)\n",
    "print(\"heiarr array is\",heiarr,\"len is \", len(heiarr))"
   ]
  },
  {
   "cell_type": "code",
   "execution_count": 1301,
   "metadata": {},
   "outputs": [],
   "source": [
    "def dephprune(df,heiarr,thresohold):\n",
    "    node = find_winner(df)  #root node\n",
    "    attValue = np.unique(df[node]) #get unique attribute of 'Y' class\n",
    "    tree = {}\n",
    "    tree[node] = {}\n",
    "    q = []\n",
    "    #push node of root into queue\n",
    "    print(\"current node is \", node)\n",
    "    cur_height = heiarr.pop(0)\n",
    "    print(\"pop height\",cur_height)\n",
    "    for value in attValue:\n",
    "            subtable = get_subtable(df,node,value)\n",
    "            clValue,counts = np.unique(subtable['Y'],return_counts=True)\n",
    "            \n",
    "            if cur_height >= thresohold or  len(counts) == 1:\n",
    "                tree[node][value] = clValue[0]\n",
    "            else:\n",
    "                childtree = {}\n",
    "                tree[node][value] = childtree\n",
    "                pair = [childtree,subtable]\n",
    "                q.insert(0,pair)\n",
    "    #BFS\n",
    "    while(len(q)>0):\n",
    "        element = q.pop()\n",
    "        tmptree = element[0]\n",
    "        tmpsubtable = element[1]\n",
    "        \n",
    "        node = find_winner(tmpsubtable)\n",
    "        tmptree[node] = {}\n",
    "        cur_height = heiarr.pop(0)\n",
    "        print(\"current node is \", node)\n",
    "        print(\"pop height\",cur_height)\n",
    "        for value in attValue:\n",
    "            subtable = get_subtable(tmpsubtable,node,value)\n",
    "            clValue,counts = np.unique(subtable['Y'],return_counts=True)\n",
    "            \n",
    "            if cur_height >= thresohold or len(counts) == 1:\n",
    "                tmptree[node][value] = majority(subtable)\n",
    "            else:\n",
    "                #enqueue\n",
    "                childtree = {}\n",
    "                tmptree[node][value] = childtree\n",
    "                pair = [childtree,subtable]\n",
    "                q.insert(0,pair)\n",
    "    \n",
    "    return tree"
   ]
  },
  {
   "cell_type": "code",
   "execution_count": 1302,
   "metadata": {},
   "outputs": [
    {
     "name": "stdout",
     "output_type": "stream",
     "text": [
      "current node is  7\n",
      "pop height 0\n",
      "current node is  10\n",
      "pop height 1\n",
      "current node is  4\n",
      "pop height 1\n",
      "current node is  11\n",
      "pop height 2\n",
      "current node is  0\n",
      "pop height 2\n",
      "current node is  13\n",
      "pop height 2\n",
      "current node is  0\n",
      "pop height 4\n",
      "current node is  15\n",
      "pop height 3\n",
      "current node is  3\n",
      "pop height 4\n",
      "current node is  9\n",
      "pop height 3\n",
      "current node is  6\n",
      "pop height 3\n",
      "current node is  12\n",
      "pop height 5\n"
     ]
    }
   ],
   "source": [
    "test = dephprune(df,heiarr,3)"
   ]
  },
  {
   "cell_type": "code",
   "execution_count": 1303,
   "metadata": {},
   "outputs": [
    {
     "data": {
      "text/plain": [
       "{7: {0: {10: {0: {11: {0: 0,\n",
       "      1: {15: {0: 1, 1: {0: {0: 0, 1: {2: {0: 1, 1: 0}}}}}}}},\n",
       "    1: {0: {0: {3: {0: 0, 1: {6: {0: 0, 1: 1}}}},\n",
       "      1: {9: {0: {12: {0: 0, 1: {6: {0: 1, 1: 0}}}}, 1: 1}}}}}},\n",
       "  1: {4: {0: {13: {0: {6: {0: 0, 1: {1: {0: {3: {0: 0, 1: 1}}, 1: 1}}}},\n",
       "      1: {12: {0: 0, 1: 1}}}},\n",
       "    1: {0: {0: 1, 1: {12: {0: 0, 1: 1}}}}}}}}"
      ]
     },
     "execution_count": 1303,
     "metadata": {},
     "output_type": "execute_result"
    }
   ],
   "source": [
    "tree"
   ]
  },
  {
   "cell_type": "code",
   "execution_count": 1304,
   "metadata": {},
   "outputs": [
    {
     "data": {
      "text/plain": [
       "{7: {0: {10: {0: {11: {0: 0, 1: {15: {0: 0, 1: 0}}}},\n",
       "    1: {0: {0: {3: {0: 0, 1: 1}}, 1: {9: {0: 1, 1: 1}}}}}},\n",
       "  1: {4: {0: {13: {0: {6: {0: 0, 1: 0}}, 1: {12: {0: 0, 1: 1}}}},\n",
       "    1: {0: {0: 1, 1: 1}}}}}}"
      ]
     },
     "execution_count": 1304,
     "metadata": {},
     "output_type": "execute_result"
    }
   ],
   "source": [
    "test"
   ]
  },
  {
   "cell_type": "markdown",
   "metadata": {},
   "source": [
    "## 3(b)"
   ]
  },
  {
   "cell_type": "code",
   "execution_count": 1089,
   "metadata": {},
   "outputs": [],
   "source": [
    "d = datagen(40)\n",
    "df = d.df"
   ]
  },
  {
   "cell_type": "code",
   "execution_count": 1099,
   "metadata": {},
   "outputs": [],
   "source": [
    "def sample_size_subBFSprune(df):\n",
    "    subhistory = []\n",
    "    subhistory.insert(0,df)\n",
    "    node = find_winner(df)  #root node\n",
    "    attValue = np.unique(df[node]) #get unique attribute of 'Y' class\n",
    "    tree = {}\n",
    "    tree[node] = {}\n",
    "    q = []\n",
    "    #push node of root into queue\n",
    "    for value in attValue:\n",
    "            subtable = get_subtable(df,node,value)\n",
    "            clValue,counts = np.unique(subtable['Y'],return_counts=True)\n",
    "            \n",
    "            if len(counts) == 1:\n",
    "                tree[node][value] = clValue[0]\n",
    "            else:\n",
    "                childtree = {}\n",
    "                tree[node][value] = childtree\n",
    "                pair = [childtree,subtable]\n",
    "                subhistory.insert(0,subtable)\n",
    "                q.insert(0,pair)\n",
    "    #BFS\n",
    "    while(len(q)>0):\n",
    "        element = q.pop()\n",
    "        tmptree = element[0]\n",
    "        tmpsubtable = element[1]\n",
    "        \n",
    "        node = find_winner(tmpsubtable)\n",
    "        tmptree[node] = {}\n",
    "        \n",
    "        for value in attValue:\n",
    "            subtable = get_subtable(tmpsubtable,node,value)\n",
    "            clValue,counts = np.unique(subtable['Y'],return_counts=True)\n",
    "            \n",
    "            if len(subtable) < 10 or len(counts)==1:\n",
    "                tmptree[node][value] = majority(subtable)\n",
    "            else:\n",
    "                #enqueue\n",
    "                childtree = {}\n",
    "                tmptree[node][value] = childtree\n",
    "                pair = [childtree,subtable]\n",
    "                subhistory.insert(0,subtable)\n",
    "                q.insert(0,pair)\n",
    "    \n",
    "    return tree,subhistory"
   ]
  },
  {
   "cell_type": "code",
   "execution_count": 1100,
   "metadata": {},
   "outputs": [],
   "source": [
    "tree, subhistory = sample_size_subBFSprune(df)"
   ]
  },
  {
   "cell_type": "code",
   "execution_count": 1101,
   "metadata": {},
   "outputs": [
    {
     "data": {
      "text/plain": [
       "{7: {0: {17: {0: 0, 1: {13: {0: 0, 1: 1}}}},\n",
       "  1: {13: {0: {10: {0: 0, 1: 1}}, 1: {0: {0: 1, 1: 1}}}}}}"
      ]
     },
     "execution_count": 1101,
     "metadata": {},
     "output_type": "execute_result"
    }
   ],
   "source": [
    "tree"
   ]
  },
  {
   "cell_type": "markdown",
   "metadata": {},
   "source": [
    "# 3(c) Prunning by Significance\n",
    "1. find the node lead to biggest $IG$\n",
    "2. Compute $X^{2}-test$ for that node"
   ]
  },
  {
   "cell_type": "code",
   "execution_count": 1033,
   "metadata": {},
   "outputs": [],
   "source": [
    "def getnumof01(arr):\n",
    "    count0 = 0\n",
    "    count1 = 0\n",
    "    for i in range(len(arr)):\n",
    "        if arr[i] == 0:\n",
    "            count0+=1\n",
    "        else:\n",
    "            count1+=1\n",
    "    return count0,count1\n",
    "\n",
    "def computeobservation(node_arr,y_arr):\n",
    "    count00,count01,count10,count11 = 0,0,0,0\n",
    "    row = len(node_arr)\n",
    "    for i in range(row):\n",
    "        if node_arr[i] == 0 and y_arr[i] == 0:\n",
    "            count00+= 1\n",
    "        elif node_arr[i] == 0 and y_arr[i] == 1:\n",
    "            count01+=1\n",
    "        elif node_arr[i] == 1 and y_arr[i] == 0:\n",
    "            count10+=1\n",
    "        elif node_arr[i] == 1 and y_arr[i] == 1:\n",
    "            count11+=1\n",
    "    return count00,count01,count10,count11\n",
    "    \n",
    "def chitest(node,table):\n",
    "    chisquare = 0.0\n",
    "    N = len(df.index)\n",
    "    #compute p of node\n",
    "    node_col = df[node]\n",
    "    node_arr = node_col.as_matrix()\n",
    "    node_count0,node_count1 = getnumof01(node_arr)\n",
    "    px1 = node_count1/(node_count0+node_count1)\n",
    "    px0 = 1- px1\n",
    "    #compute p of Y col\n",
    "    y_col = df['Y']\n",
    "    y_arr = y_col.as_matrix()\n",
    "    y_count0,y_count1 = getnumof01(y_arr)\n",
    "    py1 = y_count1 /(y_count1 + y_count0)\n",
    "    py0 = 1- py1\n",
    "    #compute chi square err\n",
    "    count00,count01,count10,count11 = computeobservation(node_arr,y_arr)\n",
    "    # x = 0, y  = 0\n",
    "    chisquare +=((px0*py0)*N-count00)**2/((px0*py0)*N) \n",
    "    # x = 0, y = 1\n",
    "    chisquare += ((px0*py1)*N-count01)**2/((px0*py1)*N)\n",
    "    # x = 1, y = 0\n",
    "    chisquare += ((px1*py0)*N - count10)**2/((px1*py0)*N)\n",
    "    # x = 1, y = 1\n",
    "    chisquare += ((px1*py1)*N- count11)**2/((px1*py1)*N)\n",
    "    \n",
    "    return chisquare"
   ]
  },
  {
   "cell_type": "code",
   "execution_count": 1043,
   "metadata": {},
   "outputs": [
    {
     "data": {
      "text/plain": [
       "9"
      ]
     },
     "execution_count": 1043,
     "metadata": {},
     "output_type": "execute_result"
    }
   ],
   "source": [
    "d = datagen(20)\n",
    "df = d.df\n",
    "node = find_winner(df)\n",
    "node"
   ]
  },
  {
   "cell_type": "code",
   "execution_count": 1123,
   "metadata": {},
   "outputs": [],
   "source": [
    "def chisquare_subBFSprune(df):\n",
    "    subhistory = []\n",
    "    subhistory.insert(0,df)\n",
    "    node = find_winner(df)  #root node\n",
    "    attValue = np.unique(df[node]) #get unique attribute of 'Y' class\n",
    "    tree = {}\n",
    "    tree[node] = {}\n",
    "    q = []\n",
    "    #push node of root into queue\n",
    "    for value in attValue:\n",
    "            subtable = get_subtable(df,node,value)\n",
    "            clValue,counts = np.unique(subtable['Y'],return_counts=True)\n",
    "            \n",
    "            if len(counts) == 1:\n",
    "                tree[node][value] = clValue[0]\n",
    "            else:\n",
    "                childtree = {}\n",
    "                tree[node][value] = childtree\n",
    "                pair = [childtree,subtable]\n",
    "                subhistory.insert(0,subtable)\n",
    "                q.insert(0,pair)\n",
    "    #BFS\n",
    "    while(len(q)>0):\n",
    "        element = q.pop()\n",
    "        tmptree = element[0]\n",
    "        tmpsubtable = element[1]\n",
    "        \n",
    "        node = find_winner(tmpsubtable)\n",
    "        tmptree[node] = {}\n",
    "        \n",
    "        for value in attValue:\n",
    "            subtable = get_subtable(tmpsubtable,node,value)\n",
    "            clValue,counts = np.unique(subtable['Y'],return_counts=True)\n",
    "            \n",
    "            if  chitest(node,tmpsubtable) <3.841 or len(counts)==1:\n",
    "                tmptree[node][value] = majority(subtable)\n",
    "            else:\n",
    "                #enqueue\n",
    "                childtree = {}\n",
    "                tmptree[node][value] = childtree\n",
    "                pair = [childtree,subtable]\n",
    "                subhistory.insert(0,subtable)\n",
    "                q.insert(0,pair)\n",
    "    \n",
    "    return tree,subhistory"
   ]
  },
  {
   "cell_type": "code",
   "execution_count": 1124,
   "metadata": {},
   "outputs": [],
   "source": [
    "tree,subhistory = chisquare_subBFSprune(df)"
   ]
  },
  {
   "cell_type": "code",
   "execution_count": 1125,
   "metadata": {},
   "outputs": [
    {
     "data": {
      "text/plain": [
       "{7: {0: {17: {0: 0, 1: 0}}, 1: {13: {0: 1, 1: 1}}}}"
      ]
     },
     "execution_count": 1125,
     "metadata": {},
     "output_type": "execute_result"
    }
   ],
   "source": [
    "tree"
   ]
  },
  {
   "cell_type": "code",
   "execution_count": null,
   "metadata": {},
   "outputs": [],
   "source": []
  }
 ],
 "metadata": {
  "kernelspec": {
   "display_name": "Python 3",
   "language": "python",
   "name": "python3"
  },
  "language_info": {
   "codemirror_mode": {
    "name": "ipython",
    "version": 3
   },
   "file_extension": ".py",
   "mimetype": "text/x-python",
   "name": "python",
   "nbconvert_exporter": "python",
   "pygments_lexer": "ipython3",
   "version": "3.6.5"
  }
 },
 "nbformat": 4,
 "nbformat_minor": 2
}
